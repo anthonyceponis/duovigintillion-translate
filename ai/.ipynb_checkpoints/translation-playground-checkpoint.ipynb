{
 "cells": [
  {
   "cell_type": "markdown",
   "id": "0c528850-f0dc-4f97-928c-9e6376816ebd",
   "metadata": {},
   "source": [
    "### Translation playground"
   ]
  },
  {
   "cell_type": "code",
   "execution_count": 6,
   "id": "ade25d64-299c-486f-8b6d-c5b32394eaec",
   "metadata": {},
   "outputs": [
    {
     "name": "stdout",
     "output_type": "stream",
     "text": [
      "Che nome ?\n"
     ]
    }
   ],
   "source": [
    "from translate import translate_sentence\n",
    "\n",
    "ans = translate_sentence(\"What is your name?\")\n",
    "print(ans)"
   ]
  },
  {
   "cell_type": "code",
   "execution_count": null,
   "id": "580fab0a-df68-4629-a64f-20f5fe87a37e",
   "metadata": {},
   "outputs": [],
   "source": []
  }
 ],
 "metadata": {
  "kernelspec": {
   "display_name": "Python 3 (ipykernel)",
   "language": "python",
   "name": "python3"
  },
  "language_info": {
   "codemirror_mode": {
    "name": "ipython",
    "version": 3
   },
   "file_extension": ".py",
   "mimetype": "text/x-python",
   "name": "python",
   "nbconvert_exporter": "python",
   "pygments_lexer": "ipython3",
   "version": "3.10.14"
  }
 },
 "nbformat": 4,
 "nbformat_minor": 5
}
